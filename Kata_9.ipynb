{
 "cells": [
  {
   "cell_type": "markdown",
   "metadata": {},
   "source": [
    "## Ejercicio 1"
   ]
  },
  {
   "cell_type": "code",
   "execution_count": 1,
   "metadata": {},
   "outputs": [],
   "source": [
    "def comb_tank(tank_1, tank_2, tank_3):\n",
    "    promedio_tank = (tank_1 + tank_2 + tank_3) / 3\n",
    "    return f\"\"\"Tank Report:\n",
    "    Tanks Average: {promedio_tank}%\n",
    "    Tank 1: {tank_1}%\n",
    "    Tank 2: {tank_2}%\n",
    "    Tank 3: {tank_3}%    \n",
    "    \"\"\""
   ]
  },
  {
   "cell_type": "code",
   "execution_count": 2,
   "metadata": {},
   "outputs": [
    {
     "name": "stdout",
     "output_type": "stream",
     "text": [
      "Tank Report:\n",
      "    Tanks Average: 60.0%\n",
      "    Tank 1: 50%\n",
      "    Tank 2: 70%\n",
      "    Tank 3: 60%    \n",
      "    \n"
     ]
    }
   ],
   "source": [
    "print(comb_tank(50, 70, 60))"
   ]
  },
  {
   "cell_type": "code",
   "execution_count": 3,
   "metadata": {},
   "outputs": [
    {
     "data": {
      "text/plain": [
       "60.0"
      ]
     },
     "execution_count": 3,
     "metadata": {},
     "output_type": "execute_result"
    }
   ],
   "source": [
    "def average(values):\n",
    "    total = sum(values)\n",
    "    number_items = len(values)\n",
    "    return total / number_items\n",
    "\n",
    "average([50, 70, 60])"
   ]
  },
  {
   "cell_type": "code",
   "execution_count": 4,
   "metadata": {},
   "outputs": [
    {
     "name": "stdout",
     "output_type": "stream",
     "text": [
      "Tank Report:\n",
      "    Tank Average = 76.66666666666667\n",
      "    Tank 1 = 60%\n",
      "    Tank 2 = 90%\n",
      "    Tank 3 = 80%\n",
      "    \n"
     ]
    }
   ],
   "source": [
    "def comb_tank(tank_1, tank_2, tank_3):\n",
    "    return f\"\"\"Tank Report:\n",
    "    Tank Average = {average([tank_1, tank_2, tank_3])}\n",
    "    Tank 1 = {tank_1}%\n",
    "    Tank 2 = {tank_2}%\n",
    "    Tank 3 = {tank_3}%\n",
    "    \"\"\"\n",
    "    \n",
    "print(comb_tank(60, 90, 80))"
   ]
  },
  {
   "cell_type": "markdown",
   "metadata": {},
   "source": [
    "## Ejercicio 2\n"
   ]
  },
  {
   "cell_type": "code",
   "execution_count": 21,
   "metadata": {},
   "outputs": [
    {
     "name": "stdout",
     "output_type": "stream",
     "text": [
      "Informes de misión\n",
      "    Destino de misión : Marte\n",
      "    Tiempo total de misión: 200 minutos\n",
      "    Tiempo de prelanzamiento : 40 minutos\n",
      "    Tiempo de vuelo : 160 minutos\n",
      "    Combustible total: 350 lt\n",
      "    Tanque externo : 200 lt\n",
      "    Tanque interno : 150 lt    \n",
      "\n"
     ]
    }
   ],
   "source": [
    "def mission_info(destino, tiempo_prelan, tiempo_vuelo, tanque_ext, tanque_inter):\n",
    "    \n",
    "    return f\"\"\"Informes de misión\n",
    "    Destino de misión : {destino}\n",
    "    Tiempo total de misión: {tiempo_prelan + tiempo_vuelo} minutos\n",
    "    Tiempo de prelanzamiento : {tiempo_prelan} minutos\n",
    "    Tiempo de vuelo : {tiempo_vuelo} minutos\n",
    "    Combustible total: {tanque_ext + tanque_inter} lt\n",
    "    Tanque externo : {tanque_ext} lt\n",
    "    Tanque interno : {tanque_inter} lt    \n",
    "\"\"\"\n",
    "\n",
    "print(mission_info(\"Marte\", 40, 160, 200, 150))"
   ]
  },
  {
   "cell_type": "code",
   "execution_count": 16,
   "metadata": {},
   "outputs": [
    {
     "name": "stdout",
     "output_type": "stream",
     "text": [
      "Informes de misión\n",
      "    Destino de misión: Marte\n",
      "    Tiempo total de misión: 205 min\n",
      "    Combustible total: 1150 lt\n",
      "\n"
     ]
    }
   ],
   "source": [
    "def mission_info(destino, *minu, **tanq_combust):\n",
    "    \n",
    "    return f\"\"\"Informes de misión\n",
    "    Destino de misión: {destino}\n",
    "    Tiempo total de misión: {sum(minu)} minutos\n",
    "    Combustible total: {sum(tanq_combust.values())} lt\n",
    "\"\"\"\n",
    "\n",
    "print(mission_info(\"Marte\", 40, 65, 80, 20, ext = 200, inter = 150, principal = 800))"
   ]
  },
  {
   "cell_type": "code",
   "execution_count": 20,
   "metadata": {},
   "outputs": [
    {
     "name": "stdout",
     "output_type": "stream",
     "text": [
      "Informes de misión\n",
      "    Destino de misión: Marte\n",
      "    Tiempo total de misión: 205 minutos\n",
      "    Combustible total: 1150 lt\n",
      "          Tanque ext: 200 lt\n",
      "          Tanque inter: 150 lt\n",
      "          Tanque principal: 800 lt\n",
      "\n"
     ]
    }
   ],
   "source": [
    "def mission_info(destino, *minu, **tanq_combust):\n",
    "    \n",
    "    reporte_miss = f\"\"\"Informes de misión\n",
    "    Destino de misión: {destino}\n",
    "    Tiempo total de misión: {sum(minu)} minutos\n",
    "    Combustible total: {sum(tanq_combust.values())} lt\n",
    "\"\"\"\n",
    "    for tanq_indiv, lt in tanq_combust.items():\n",
    "        reporte_miss += f\"          Tanque {tanq_indiv}: {lt} lt\\n\"\n",
    "    return reporte_miss\n",
    "\n",
    "print(mission_info(\"Marte\", 40, 65, 80, 20, ext = 200, inter = 150, principal = 800))"
   ]
  }
 ],
 "metadata": {
  "interpreter": {
   "hash": "267c8b924bb792b43e000044b422aab89715ce371e365ea78a825a69d2596271"
  },
  "kernelspec": {
   "display_name": "Python 3.10.2 64-bit",
   "language": "python",
   "name": "python3"
  },
  "language_info": {
   "codemirror_mode": {
    "name": "ipython",
    "version": 3
   },
   "file_extension": ".py",
   "mimetype": "text/x-python",
   "name": "python",
   "nbconvert_exporter": "python",
   "pygments_lexer": "ipython3",
   "version": "3.10.2"
  },
  "orig_nbformat": 4
 },
 "nbformat": 4,
 "nbformat_minor": 2
}
