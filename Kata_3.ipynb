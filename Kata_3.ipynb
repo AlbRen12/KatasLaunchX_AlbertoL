{
 "cells": [
  {
   "cell_type": "markdown",
   "metadata": {},
   "source": [
    "## Velocidad de asteroides\n",
    "\n",
    "Identifica la velocidad con la que se aproxima un asteroide a la Tierra"
   ]
  },
  {
   "cell_type": "code",
   "execution_count": null,
   "metadata": {},
   "outputs": [],
   "source": [
    "Vel_Asteroide = 49\n",
    "\n",
    "if Vel_Asteroide > 25:\n",
    "    print (\"¡¡Un asteroide se acerca demasiado rápido a la Tierra!!\")\n",
    "\n",
    "else:\n",
    "    print (\"No se acerca ningún asteroide\")"
   ]
  },
  {
   "cell_type": "markdown",
   "metadata": {},
   "source": [
    "## Ingreso de asteroides a la atmósfera\n",
    "\n",
    "Identifica el avistamiento de ingreso de asteroides a la atmósfera"
   ]
  },
  {
   "cell_type": "code",
   "execution_count": null,
   "metadata": {},
   "outputs": [],
   "source": [
    "Vel_Asteroide = 19\n",
    "\n",
    "if Vel_Asteroide > 20:\n",
    "    print (\"¡¡Hay una estrella fugaz, un asteroide esta entrando en la atmósfera\")\n",
    "\n",
    "elif Vel_Asteroide == 20:\n",
    "    print (\"¡¡Hay una estrella fugaz, un asteroide esta entrando en la atmósfera\")\n",
    "\n",
    "else: \n",
    "    print (\"¡El cielo esta libre de avistamientos!\")"
   ]
  },
  {
   "cell_type": "markdown",
   "metadata": {},
   "source": [
    "## Asteroides\n",
    "\n",
    "Identifica si un asteroide es potencialmente peligroso"
   ]
  },
  {
   "cell_type": "code",
   "execution_count": 112,
   "metadata": {},
   "outputs": [
    {
     "name": "stdout",
     "output_type": "stream",
     "text": [
      "El cielo esta libre de avistamientos\n"
     ]
    }
   ],
   "source": [
    "Vel_Asteroide = 25\n",
    "Longi_Asteroide = 0\n",
    "\n",
    "if Vel_Asteroide > 25 and Longi_Asteroide > 25:\n",
    "    print (\"¡¡Peligro, Un gran asteroide se esta acercando muy rápido a la Tierra!!\")\n",
    "    \n",
    "elif Longi_Asteroide > 25:\n",
    "    print (\"¡¡Peligro, Un gran asteroide se esta acercando a la Tierra!!\")\n",
    "\n",
    "elif Vel_Asteroide >= 20 and Longi_Asteroide >= 1 and Longi_Asteroide <= 25:\n",
    "    print (\"¡¡Hay una estrella fugaz, un asteroide esta entrando en la atmósfera!!\")\n",
    "\n",
    "elif Longi_Asteroide >= 1 and Longi_Asteroide <= 24 and Vel_Asteroide >= 1 and Vel_Asteroide <=19:\n",
    "    print (\"¡Un pequeño asteroide se esta acercando a la Tierra, pero no es peligroso!\")\n",
    "\n",
    "else:\n",
    "    print(\"El cielo esta libre de avistamientos\")\n",
    "        "
   ]
  }
 ],
 "metadata": {
  "interpreter": {
   "hash": "267c8b924bb792b43e000044b422aab89715ce371e365ea78a825a69d2596271"
  },
  "kernelspec": {
   "display_name": "Python 3.10.2 64-bit",
   "language": "python",
   "name": "python3"
  },
  "language_info": {
   "codemirror_mode": {
    "name": "ipython",
    "version": 3
   },
   "file_extension": ".py",
   "mimetype": "text/x-python",
   "name": "python",
   "nbconvert_exporter": "python",
   "pygments_lexer": "ipython3",
   "version": "3.10.2"
  },
  "orig_nbformat": 4
 },
 "nbformat": 4,
 "nbformat_minor": 2
}
