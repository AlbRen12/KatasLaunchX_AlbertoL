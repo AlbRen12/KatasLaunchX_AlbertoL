{
 "cells": [
  {
   "cell_type": "markdown",
   "metadata": {},
   "source": [
    "## Ejercicio 1"
   ]
  },
  {
   "cell_type": "code",
   "execution_count": 1,
   "metadata": {},
   "outputs": [],
   "source": [
    "Dist_tierra = 149597870\n",
    "Dist_jupiter = 778547200"
   ]
  },
  {
   "cell_type": "code",
   "execution_count": 2,
   "metadata": {},
   "outputs": [
    {
     "name": "stdout",
     "output_type": "stream",
     "text": [
      "628949330\n",
      "390577533.93\n"
     ]
    }
   ],
   "source": [
    "Dist_km = Dist_jupiter - Dist_tierra\n",
    "print(Dist_km)\n",
    "\n",
    "Dist_millas = Dist_km * 0.621\n",
    "print(Dist_millas)"
   ]
  },
  {
   "cell_type": "markdown",
   "metadata": {},
   "source": [
    "## Ejercicio 2"
   ]
  },
  {
   "cell_type": "code",
   "execution_count": 3,
   "metadata": {},
   "outputs": [],
   "source": [
    "Planeta_1 = input(\"Introduce la distancia del Primer planeta\")\n",
    "Planeta_2 = input(\"Introduce la distancia del Segundo planeta\")"
   ]
  },
  {
   "cell_type": "code",
   "execution_count": 4,
   "metadata": {},
   "outputs": [],
   "source": [
    "Planeta_1 = int(Planeta_1)\n",
    "Planeta_2 = int(Planeta_2)"
   ]
  },
  {
   "cell_type": "markdown",
   "metadata": {},
   "source": [
    "| Planeta  | Distancia al sol |\n",
    "| ------- | ----------------- |\n",
    "| Mercurio | 57900000          |\n",
    "| Venus   | 108200000         |\n",
    "| Tierra   | 149600000         |\n",
    "| Marte    | 227900000         |\n",
    "| Júpiter | 778600000         |\n",
    "| Saturno  | 1433500000        |\n",
    "| Urano  | 2872500000        |\n",
    "| Neptuno | 4495100000        |"
   ]
  },
  {
   "cell_type": "code",
   "execution_count": 5,
   "metadata": {},
   "outputs": [
    {
     "name": "stdout",
     "output_type": "stream",
     "text": [
      "1375600000\n",
      "854247600.0\n"
     ]
    }
   ],
   "source": [
    "Dist_km = Planeta_2 - Planeta_1\n",
    "print(Dist_km)\n",
    "\n",
    "Dist_millas = Dist_km * 0.621\n",
    "print(Dist_millas)"
   ]
  }
 ],
 "metadata": {
  "interpreter": {
   "hash": "267c8b924bb792b43e000044b422aab89715ce371e365ea78a825a69d2596271"
  },
  "kernelspec": {
   "display_name": "Python 3.10.2 64-bit",
   "language": "python",
   "name": "python3"
  },
  "language_info": {
   "codemirror_mode": {
    "name": "ipython",
    "version": 3
   },
   "file_extension": ".py",
   "mimetype": "text/x-python",
   "name": "python",
   "nbconvert_exporter": "python",
   "pygments_lexer": "ipython3",
   "version": "3.10.2"
  },
  "orig_nbformat": 4
 },
 "nbformat": 4,
 "nbformat_minor": 2
}
